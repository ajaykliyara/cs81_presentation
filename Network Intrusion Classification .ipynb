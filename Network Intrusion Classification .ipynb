{
 "cells": [
  {
   "cell_type": "code",
   "execution_count": 37,
   "metadata": {
    "collapsed": true
   },
   "outputs": [],
   "source": [
    "import pandas as pd\n",
    "import matplotlib.pyplot as plt\n",
    "from sklearn import linear_model\n",
    "import numpy as np\n",
    "import time\n",
    "\n",
    "from sklearn.grid_search import GridSearchCV\n",
    "from sklearn.metrics import accuracy_score"
   ]
  },
  {
   "cell_type": "markdown",
   "metadata": {},
   "source": [
    "The dataset referenced in the paper was not accessible. The site referenced is not active anymore. Lot of searching on the web, ended in finding a dataset whose shape is same as what is mentioned in the paper, with respect to number of "
   ]
  },
  {
   "cell_type": "code",
   "execution_count": 2,
   "metadata": {
    "collapsed": true
   },
   "outputs": [],
   "source": [
    "#reading training and test set\n",
    "train = pd.read_csv(\"KDDTrain.csv\")\n",
    "test = pd.read_csv(\"KDDTest.csv\")"
   ]
  },
  {
   "cell_type": "code",
   "execution_count": 3,
   "metadata": {
    "collapsed": false
   },
   "outputs": [
    {
     "name": "stdout",
     "output_type": "stream",
     "text": [
      "Dimensions of Training Set  (125973, 42)\n",
      "Dimensions of Test Set  (22544, 42)\n"
     ]
    }
   ],
   "source": [
    "print('Dimensions of Training Set ',train.shape)\n",
    "print('Dimensions of Test Set ',test.shape)"
   ]
  },
  {
   "cell_type": "code",
   "execution_count": 4,
   "metadata": {
    "collapsed": false
   },
   "outputs": [
    {
     "data": {
      "text/html": [
       "<div>\n",
       "<table border=\"1\" class=\"dataframe\">\n",
       "  <thead>\n",
       "    <tr style=\"text-align: right;\">\n",
       "      <th></th>\n",
       "      <th>duration</th>\n",
       "      <th>protocol_type</th>\n",
       "      <th>service</th>\n",
       "      <th>flag</th>\n",
       "      <th>src_bytes</th>\n",
       "      <th>dst_bytes</th>\n",
       "      <th>land</th>\n",
       "      <th>wrong_fragment</th>\n",
       "      <th>urgent</th>\n",
       "      <th>hot</th>\n",
       "      <th>...</th>\n",
       "      <th>dst_host_srv_count</th>\n",
       "      <th>dst_host_same_srv_rate</th>\n",
       "      <th>dst_host_diff_srv_rate</th>\n",
       "      <th>dst_host_same_src_port_rate</th>\n",
       "      <th>dst_host_srv_diff_host_rate</th>\n",
       "      <th>dst_host_serror_rate</th>\n",
       "      <th>dst_host_srv_serror_rate</th>\n",
       "      <th>dst_host_rerror_rate</th>\n",
       "      <th>dst_host_srv_rerror_rate</th>\n",
       "      <th>class</th>\n",
       "    </tr>\n",
       "  </thead>\n",
       "  <tbody>\n",
       "    <tr>\n",
       "      <th>0</th>\n",
       "      <td>0</td>\n",
       "      <td>tcp</td>\n",
       "      <td>ftp_data</td>\n",
       "      <td>SF</td>\n",
       "      <td>491</td>\n",
       "      <td>0</td>\n",
       "      <td>0</td>\n",
       "      <td>0</td>\n",
       "      <td>0</td>\n",
       "      <td>0</td>\n",
       "      <td>...</td>\n",
       "      <td>25</td>\n",
       "      <td>0.17</td>\n",
       "      <td>0.03</td>\n",
       "      <td>0.17</td>\n",
       "      <td>0.00</td>\n",
       "      <td>0.00</td>\n",
       "      <td>0.00</td>\n",
       "      <td>0.05</td>\n",
       "      <td>0.00</td>\n",
       "      <td>normal</td>\n",
       "    </tr>\n",
       "    <tr>\n",
       "      <th>1</th>\n",
       "      <td>0</td>\n",
       "      <td>udp</td>\n",
       "      <td>other</td>\n",
       "      <td>SF</td>\n",
       "      <td>146</td>\n",
       "      <td>0</td>\n",
       "      <td>0</td>\n",
       "      <td>0</td>\n",
       "      <td>0</td>\n",
       "      <td>0</td>\n",
       "      <td>...</td>\n",
       "      <td>1</td>\n",
       "      <td>0.00</td>\n",
       "      <td>0.60</td>\n",
       "      <td>0.88</td>\n",
       "      <td>0.00</td>\n",
       "      <td>0.00</td>\n",
       "      <td>0.00</td>\n",
       "      <td>0.00</td>\n",
       "      <td>0.00</td>\n",
       "      <td>normal</td>\n",
       "    </tr>\n",
       "    <tr>\n",
       "      <th>2</th>\n",
       "      <td>0</td>\n",
       "      <td>tcp</td>\n",
       "      <td>private</td>\n",
       "      <td>S0</td>\n",
       "      <td>0</td>\n",
       "      <td>0</td>\n",
       "      <td>0</td>\n",
       "      <td>0</td>\n",
       "      <td>0</td>\n",
       "      <td>0</td>\n",
       "      <td>...</td>\n",
       "      <td>26</td>\n",
       "      <td>0.10</td>\n",
       "      <td>0.05</td>\n",
       "      <td>0.00</td>\n",
       "      <td>0.00</td>\n",
       "      <td>1.00</td>\n",
       "      <td>1.00</td>\n",
       "      <td>0.00</td>\n",
       "      <td>0.00</td>\n",
       "      <td>anomaly</td>\n",
       "    </tr>\n",
       "    <tr>\n",
       "      <th>3</th>\n",
       "      <td>0</td>\n",
       "      <td>tcp</td>\n",
       "      <td>http</td>\n",
       "      <td>SF</td>\n",
       "      <td>232</td>\n",
       "      <td>8153</td>\n",
       "      <td>0</td>\n",
       "      <td>0</td>\n",
       "      <td>0</td>\n",
       "      <td>0</td>\n",
       "      <td>...</td>\n",
       "      <td>255</td>\n",
       "      <td>1.00</td>\n",
       "      <td>0.00</td>\n",
       "      <td>0.03</td>\n",
       "      <td>0.04</td>\n",
       "      <td>0.03</td>\n",
       "      <td>0.01</td>\n",
       "      <td>0.00</td>\n",
       "      <td>0.01</td>\n",
       "      <td>normal</td>\n",
       "    </tr>\n",
       "    <tr>\n",
       "      <th>4</th>\n",
       "      <td>0</td>\n",
       "      <td>tcp</td>\n",
       "      <td>http</td>\n",
       "      <td>SF</td>\n",
       "      <td>199</td>\n",
       "      <td>420</td>\n",
       "      <td>0</td>\n",
       "      <td>0</td>\n",
       "      <td>0</td>\n",
       "      <td>0</td>\n",
       "      <td>...</td>\n",
       "      <td>255</td>\n",
       "      <td>1.00</td>\n",
       "      <td>0.00</td>\n",
       "      <td>0.00</td>\n",
       "      <td>0.00</td>\n",
       "      <td>0.00</td>\n",
       "      <td>0.00</td>\n",
       "      <td>0.00</td>\n",
       "      <td>0.00</td>\n",
       "      <td>normal</td>\n",
       "    </tr>\n",
       "  </tbody>\n",
       "</table>\n",
       "<p>5 rows × 42 columns</p>\n",
       "</div>"
      ],
      "text/plain": [
       "   duration protocol_type   service flag  src_bytes  dst_bytes  land  \\\n",
       "0         0           tcp  ftp_data   SF        491          0     0   \n",
       "1         0           udp     other   SF        146          0     0   \n",
       "2         0           tcp   private   S0          0          0     0   \n",
       "3         0           tcp      http   SF        232       8153     0   \n",
       "4         0           tcp      http   SF        199        420     0   \n",
       "\n",
       "   wrong_fragment  urgent  hot   ...     dst_host_srv_count  \\\n",
       "0               0       0    0   ...                     25   \n",
       "1               0       0    0   ...                      1   \n",
       "2               0       0    0   ...                     26   \n",
       "3               0       0    0   ...                    255   \n",
       "4               0       0    0   ...                    255   \n",
       "\n",
       "   dst_host_same_srv_rate  dst_host_diff_srv_rate  \\\n",
       "0                    0.17                    0.03   \n",
       "1                    0.00                    0.60   \n",
       "2                    0.10                    0.05   \n",
       "3                    1.00                    0.00   \n",
       "4                    1.00                    0.00   \n",
       "\n",
       "   dst_host_same_src_port_rate  dst_host_srv_diff_host_rate  \\\n",
       "0                         0.17                         0.00   \n",
       "1                         0.88                         0.00   \n",
       "2                         0.00                         0.00   \n",
       "3                         0.03                         0.04   \n",
       "4                         0.00                         0.00   \n",
       "\n",
       "   dst_host_serror_rate  dst_host_srv_serror_rate  dst_host_rerror_rate  \\\n",
       "0                  0.00                      0.00                  0.05   \n",
       "1                  0.00                      0.00                  0.00   \n",
       "2                  1.00                      1.00                  0.00   \n",
       "3                  0.03                      0.01                  0.00   \n",
       "4                  0.00                      0.00                  0.00   \n",
       "\n",
       "   dst_host_srv_rerror_rate    class  \n",
       "0                      0.00   normal  \n",
       "1                      0.00   normal  \n",
       "2                      0.00  anomaly  \n",
       "3                      0.01   normal  \n",
       "4                      0.00   normal  \n",
       "\n",
       "[5 rows x 42 columns]"
      ]
     },
     "execution_count": 4,
     "metadata": {},
     "output_type": "execute_result"
    }
   ],
   "source": [
    "#first 5 records from training set\n",
    "train.head()"
   ]
  },
  {
   "cell_type": "code",
   "execution_count": 5,
   "metadata": {
    "collapsed": false
   },
   "outputs": [],
   "source": [
    "df_train_str = train.select_dtypes(include=[object])"
   ]
  },
  {
   "cell_type": "code",
   "execution_count": 6,
   "metadata": {
    "collapsed": false
   },
   "outputs": [
    {
     "data": {
      "text/plain": [
       "['protocol_type', 'service', 'flag', 'class']"
      ]
     },
     "execution_count": 6,
     "metadata": {},
     "output_type": "execute_result"
    }
   ],
   "source": [
    "#print fields that in string format\n",
    "str_fld_list = list(df_train_str.columns)\n",
    "str_fld_list"
   ]
  },
  {
   "cell_type": "code",
   "execution_count": 7,
   "metadata": {
    "collapsed": false
   },
   "outputs": [
    {
     "name": "stdout",
     "output_type": "stream",
     "text": [
      "['icmp' 'tcp' 'udp']\n",
      "['IRC' 'X11' 'Z39_50' 'aol' 'auth' 'bgp' 'courier' 'csnet_ns' 'ctf'\n",
      " 'daytime' 'discard' 'domain' 'domain_u' 'echo' 'eco_i' 'ecr_i' 'efs'\n",
      " 'exec' 'finger' 'ftp' 'ftp_data' 'gopher' 'harvest' 'hostnames' 'http'\n",
      " 'http_2784' 'http_443' 'http_8001' 'imap4' 'iso_tsap' 'klogin' 'kshell'\n",
      " 'ldap' 'link' 'login' 'mtp' 'name' 'netbios_dgm' 'netbios_ns'\n",
      " 'netbios_ssn' 'netstat' 'nnsp' 'nntp' 'ntp_u' 'other' 'pm_dump' 'pop_2'\n",
      " 'pop_3' 'printer' 'private' 'red_i' 'remote_job' 'rje' 'shell' 'smtp'\n",
      " 'sql_net' 'ssh' 'sunrpc' 'supdup' 'systat' 'telnet' 'tftp_u' 'tim_i'\n",
      " 'time' 'urh_i' 'urp_i' 'uucp' 'uucp_path' 'vmnet' 'whois']\n",
      "['OTH' 'REJ' 'RSTO' 'RSTOS0' 'RSTR' 'S0' 'S1' 'S2' 'S3' 'SF' 'SH']\n",
      "['anomaly' 'normal']\n",
      "[1 2 1 ..., 1 1 1]\n",
      "[20 44 49 ..., 54 30 20]\n",
      "[9 9 5 ..., 9 5 9]\n",
      "[1 1 0 ..., 1 0 1]\n"
     ]
    }
   ],
   "source": [
    "from sklearn.preprocessing import LabelEncoder\n",
    "\n",
    "#encoding train\n",
    "train_encode_dict = {}\n",
    "train_conv_feat_dict = {}\n",
    "for feat in str_fld_list:\n",
    "    le = LabelEncoder()\n",
    "    le.fit(df_train_str[feat])\n",
    "    \n",
    "    #storing encode model for future decode\n",
    "    train_encode_dict[feat] = le\n",
    "    train_conv_feat_dict[feat] = le.transform(df_train_str[feat])\n",
    "\n",
    "\n",
    "for feat in str_fld_list:\n",
    "    a = train_encode_dict[feat]\n",
    "    print(a.classes_)\n",
    "\n",
    "for feat in str_fld_list:\n",
    "    a = train_conv_feat_dict[feat]\n",
    "    print(a)   \n",
    "    \n",
    "    \n",
    "#now adding the transformed field into the df\n",
    "\n",
    "for feat in str_fld_list:\n",
    "    del train[feat]\n",
    "    train[feat] = train_conv_feat_dict[feat]\n",
    "\n"
   ]
  },
  {
   "cell_type": "code",
   "execution_count": 8,
   "metadata": {
    "collapsed": false
   },
   "outputs": [
    {
     "name": "stdout",
     "output_type": "stream",
     "text": [
      "['icmp' 'tcp' 'udp']\n",
      "['IRC' 'X11' 'Z39_50' 'auth' 'bgp' 'courier' 'csnet_ns' 'ctf' 'daytime'\n",
      " 'discard' 'domain' 'domain_u' 'echo' 'eco_i' 'ecr_i' 'efs' 'exec' 'finger'\n",
      " 'ftp' 'ftp_data' 'gopher' 'hostnames' 'http' 'http_443' 'imap4' 'iso_tsap'\n",
      " 'klogin' 'kshell' 'ldap' 'link' 'login' 'mtp' 'name' 'netbios_dgm'\n",
      " 'netbios_ns' 'netbios_ssn' 'netstat' 'nnsp' 'nntp' 'ntp_u' 'other'\n",
      " 'pm_dump' 'pop_2' 'pop_3' 'printer' 'private' 'remote_job' 'rje' 'shell'\n",
      " 'smtp' 'sql_net' 'ssh' 'sunrpc' 'supdup' 'systat' 'telnet' 'tftp_u'\n",
      " 'tim_i' 'time' 'urp_i' 'uucp' 'uucp_path' 'vmnet' 'whois']\n",
      "['OTH' 'REJ' 'RSTO' 'RSTOS0' 'RSTR' 'S0' 'S1' 'S2' 'S3' 'SF' 'SH']\n",
      "['anomaly' 'normal']\n",
      "[1 1 1 ..., 1 2 1]\n",
      "[45 45 19 ..., 22 11 52]\n",
      "[1 1 9 ..., 9 9 1]\n",
      "[0 0 1 ..., 0 1 0]\n"
     ]
    }
   ],
   "source": [
    "df_test_str = test.select_dtypes(include=[object])\n",
    "\n",
    "#print fields that in string format\n",
    "str_fld_list = list(df_test_str.columns)\n",
    "str_fld_list\n",
    "\n",
    "#encoding test\n",
    "test_encode_dict = {}\n",
    "test_conv_feat_dict = {}\n",
    "for feat in str_fld_list:\n",
    "    le = LabelEncoder()\n",
    "    le.fit(df_test_str[feat])\n",
    "    \n",
    "    #storing encode model for future decode\n",
    "    test_encode_dict[feat] = le\n",
    "    test_conv_feat_dict[feat] = le.transform(df_test_str[feat])\n",
    "\n",
    "\n",
    "for feat in str_fld_list:\n",
    "    a = test_encode_dict[feat]\n",
    "    print(a.classes_)\n",
    "\n",
    "for feat in str_fld_list:\n",
    "    a = test_conv_feat_dict[feat]\n",
    "    print(a)   \n",
    "    \n",
    "    \n",
    "#now adding the transformed field into the df\n",
    "\n",
    "for feat in str_fld_list:\n",
    "    del test[feat]\n",
    "    test[feat] = test_conv_feat_dict[feat]\n",
    "\n"
   ]
  },
  {
   "cell_type": "code",
   "execution_count": 10,
   "metadata": {
    "collapsed": false
   },
   "outputs": [
    {
     "data": {
      "text/html": [
       "<div>\n",
       "<table border=\"1\" class=\"dataframe\">\n",
       "  <thead>\n",
       "    <tr style=\"text-align: right;\">\n",
       "      <th></th>\n",
       "      <th>duration</th>\n",
       "      <th>src_bytes</th>\n",
       "      <th>dst_bytes</th>\n",
       "      <th>land</th>\n",
       "      <th>wrong_fragment</th>\n",
       "      <th>urgent</th>\n",
       "      <th>hot</th>\n",
       "      <th>num_failed_logins</th>\n",
       "      <th>logged_in</th>\n",
       "      <th>num_compromised</th>\n",
       "      <th>...</th>\n",
       "      <th>dst_host_same_src_port_rate</th>\n",
       "      <th>dst_host_srv_diff_host_rate</th>\n",
       "      <th>dst_host_serror_rate</th>\n",
       "      <th>dst_host_srv_serror_rate</th>\n",
       "      <th>dst_host_rerror_rate</th>\n",
       "      <th>dst_host_srv_rerror_rate</th>\n",
       "      <th>protocol_type</th>\n",
       "      <th>service</th>\n",
       "      <th>flag</th>\n",
       "      <th>class</th>\n",
       "    </tr>\n",
       "  </thead>\n",
       "  <tbody>\n",
       "    <tr>\n",
       "      <th>0</th>\n",
       "      <td>0</td>\n",
       "      <td>491</td>\n",
       "      <td>0</td>\n",
       "      <td>0</td>\n",
       "      <td>0</td>\n",
       "      <td>0</td>\n",
       "      <td>0</td>\n",
       "      <td>0</td>\n",
       "      <td>0</td>\n",
       "      <td>0</td>\n",
       "      <td>...</td>\n",
       "      <td>0.17</td>\n",
       "      <td>0.00</td>\n",
       "      <td>0.00</td>\n",
       "      <td>0.00</td>\n",
       "      <td>0.05</td>\n",
       "      <td>0.00</td>\n",
       "      <td>1</td>\n",
       "      <td>20</td>\n",
       "      <td>9</td>\n",
       "      <td>1</td>\n",
       "    </tr>\n",
       "    <tr>\n",
       "      <th>1</th>\n",
       "      <td>0</td>\n",
       "      <td>146</td>\n",
       "      <td>0</td>\n",
       "      <td>0</td>\n",
       "      <td>0</td>\n",
       "      <td>0</td>\n",
       "      <td>0</td>\n",
       "      <td>0</td>\n",
       "      <td>0</td>\n",
       "      <td>0</td>\n",
       "      <td>...</td>\n",
       "      <td>0.88</td>\n",
       "      <td>0.00</td>\n",
       "      <td>0.00</td>\n",
       "      <td>0.00</td>\n",
       "      <td>0.00</td>\n",
       "      <td>0.00</td>\n",
       "      <td>2</td>\n",
       "      <td>44</td>\n",
       "      <td>9</td>\n",
       "      <td>1</td>\n",
       "    </tr>\n",
       "    <tr>\n",
       "      <th>2</th>\n",
       "      <td>0</td>\n",
       "      <td>0</td>\n",
       "      <td>0</td>\n",
       "      <td>0</td>\n",
       "      <td>0</td>\n",
       "      <td>0</td>\n",
       "      <td>0</td>\n",
       "      <td>0</td>\n",
       "      <td>0</td>\n",
       "      <td>0</td>\n",
       "      <td>...</td>\n",
       "      <td>0.00</td>\n",
       "      <td>0.00</td>\n",
       "      <td>1.00</td>\n",
       "      <td>1.00</td>\n",
       "      <td>0.00</td>\n",
       "      <td>0.00</td>\n",
       "      <td>1</td>\n",
       "      <td>49</td>\n",
       "      <td>5</td>\n",
       "      <td>0</td>\n",
       "    </tr>\n",
       "    <tr>\n",
       "      <th>3</th>\n",
       "      <td>0</td>\n",
       "      <td>232</td>\n",
       "      <td>8153</td>\n",
       "      <td>0</td>\n",
       "      <td>0</td>\n",
       "      <td>0</td>\n",
       "      <td>0</td>\n",
       "      <td>0</td>\n",
       "      <td>1</td>\n",
       "      <td>0</td>\n",
       "      <td>...</td>\n",
       "      <td>0.03</td>\n",
       "      <td>0.04</td>\n",
       "      <td>0.03</td>\n",
       "      <td>0.01</td>\n",
       "      <td>0.00</td>\n",
       "      <td>0.01</td>\n",
       "      <td>1</td>\n",
       "      <td>24</td>\n",
       "      <td>9</td>\n",
       "      <td>1</td>\n",
       "    </tr>\n",
       "    <tr>\n",
       "      <th>4</th>\n",
       "      <td>0</td>\n",
       "      <td>199</td>\n",
       "      <td>420</td>\n",
       "      <td>0</td>\n",
       "      <td>0</td>\n",
       "      <td>0</td>\n",
       "      <td>0</td>\n",
       "      <td>0</td>\n",
       "      <td>1</td>\n",
       "      <td>0</td>\n",
       "      <td>...</td>\n",
       "      <td>0.00</td>\n",
       "      <td>0.00</td>\n",
       "      <td>0.00</td>\n",
       "      <td>0.00</td>\n",
       "      <td>0.00</td>\n",
       "      <td>0.00</td>\n",
       "      <td>1</td>\n",
       "      <td>24</td>\n",
       "      <td>9</td>\n",
       "      <td>1</td>\n",
       "    </tr>\n",
       "  </tbody>\n",
       "</table>\n",
       "<p>5 rows × 42 columns</p>\n",
       "</div>"
      ],
      "text/plain": [
       "   duration  src_bytes  dst_bytes  land  wrong_fragment  urgent  hot  \\\n",
       "0         0        491          0     0               0       0    0   \n",
       "1         0        146          0     0               0       0    0   \n",
       "2         0          0          0     0               0       0    0   \n",
       "3         0        232       8153     0               0       0    0   \n",
       "4         0        199        420     0               0       0    0   \n",
       "\n",
       "   num_failed_logins  logged_in  num_compromised  ...    \\\n",
       "0                  0          0                0  ...     \n",
       "1                  0          0                0  ...     \n",
       "2                  0          0                0  ...     \n",
       "3                  0          1                0  ...     \n",
       "4                  0          1                0  ...     \n",
       "\n",
       "   dst_host_same_src_port_rate  dst_host_srv_diff_host_rate  \\\n",
       "0                         0.17                         0.00   \n",
       "1                         0.88                         0.00   \n",
       "2                         0.00                         0.00   \n",
       "3                         0.03                         0.04   \n",
       "4                         0.00                         0.00   \n",
       "\n",
       "   dst_host_serror_rate  dst_host_srv_serror_rate  dst_host_rerror_rate  \\\n",
       "0                  0.00                      0.00                  0.05   \n",
       "1                  0.00                      0.00                  0.00   \n",
       "2                  1.00                      1.00                  0.00   \n",
       "3                  0.03                      0.01                  0.00   \n",
       "4                  0.00                      0.00                  0.00   \n",
       "\n",
       "   dst_host_srv_rerror_rate  protocol_type  service  flag  class  \n",
       "0                      0.00              1       20     9      1  \n",
       "1                      0.00              2       44     9      1  \n",
       "2                      0.00              1       49     5      0  \n",
       "3                      0.01              1       24     9      1  \n",
       "4                      0.00              1       24     9      1  \n",
       "\n",
       "[5 rows x 42 columns]"
      ]
     },
     "execution_count": 10,
     "metadata": {},
     "output_type": "execute_result"
    }
   ],
   "source": [
    "#transformed data\n",
    "train.head()\n"
   ]
  },
  {
   "cell_type": "code",
   "execution_count": 11,
   "metadata": {
    "collapsed": false
   },
   "outputs": [
    {
     "data": {
      "text/html": [
       "<div>\n",
       "<table border=\"1\" class=\"dataframe\">\n",
       "  <thead>\n",
       "    <tr style=\"text-align: right;\">\n",
       "      <th></th>\n",
       "      <th>duration</th>\n",
       "      <th>src_bytes</th>\n",
       "      <th>dst_bytes</th>\n",
       "      <th>land</th>\n",
       "      <th>wrong_fragment</th>\n",
       "      <th>urgent</th>\n",
       "      <th>hot</th>\n",
       "      <th>num_failed_logins</th>\n",
       "      <th>logged_in</th>\n",
       "      <th>num_compromised</th>\n",
       "      <th>...</th>\n",
       "      <th>dst_host_same_src_port_rate</th>\n",
       "      <th>dst_host_srv_diff_host_rate</th>\n",
       "      <th>dst_host_serror_rate</th>\n",
       "      <th>dst_host_srv_serror_rate</th>\n",
       "      <th>dst_host_rerror_rate</th>\n",
       "      <th>dst_host_srv_rerror_rate</th>\n",
       "      <th>protocol_type</th>\n",
       "      <th>service</th>\n",
       "      <th>flag</th>\n",
       "      <th>class</th>\n",
       "    </tr>\n",
       "  </thead>\n",
       "  <tbody>\n",
       "    <tr>\n",
       "      <th>0</th>\n",
       "      <td>0</td>\n",
       "      <td>0</td>\n",
       "      <td>0</td>\n",
       "      <td>0</td>\n",
       "      <td>0</td>\n",
       "      <td>0</td>\n",
       "      <td>0</td>\n",
       "      <td>0</td>\n",
       "      <td>0</td>\n",
       "      <td>0</td>\n",
       "      <td>...</td>\n",
       "      <td>0.00</td>\n",
       "      <td>0.00</td>\n",
       "      <td>0.0</td>\n",
       "      <td>0.0</td>\n",
       "      <td>1.00</td>\n",
       "      <td>1.00</td>\n",
       "      <td>1</td>\n",
       "      <td>45</td>\n",
       "      <td>1</td>\n",
       "      <td>0</td>\n",
       "    </tr>\n",
       "    <tr>\n",
       "      <th>1</th>\n",
       "      <td>0</td>\n",
       "      <td>0</td>\n",
       "      <td>0</td>\n",
       "      <td>0</td>\n",
       "      <td>0</td>\n",
       "      <td>0</td>\n",
       "      <td>0</td>\n",
       "      <td>0</td>\n",
       "      <td>0</td>\n",
       "      <td>0</td>\n",
       "      <td>...</td>\n",
       "      <td>0.00</td>\n",
       "      <td>0.00</td>\n",
       "      <td>0.0</td>\n",
       "      <td>0.0</td>\n",
       "      <td>1.00</td>\n",
       "      <td>1.00</td>\n",
       "      <td>1</td>\n",
       "      <td>45</td>\n",
       "      <td>1</td>\n",
       "      <td>0</td>\n",
       "    </tr>\n",
       "    <tr>\n",
       "      <th>2</th>\n",
       "      <td>2</td>\n",
       "      <td>12983</td>\n",
       "      <td>0</td>\n",
       "      <td>0</td>\n",
       "      <td>0</td>\n",
       "      <td>0</td>\n",
       "      <td>0</td>\n",
       "      <td>0</td>\n",
       "      <td>0</td>\n",
       "      <td>0</td>\n",
       "      <td>...</td>\n",
       "      <td>0.61</td>\n",
       "      <td>0.02</td>\n",
       "      <td>0.0</td>\n",
       "      <td>0.0</td>\n",
       "      <td>0.00</td>\n",
       "      <td>0.00</td>\n",
       "      <td>1</td>\n",
       "      <td>19</td>\n",
       "      <td>9</td>\n",
       "      <td>1</td>\n",
       "    </tr>\n",
       "    <tr>\n",
       "      <th>3</th>\n",
       "      <td>0</td>\n",
       "      <td>20</td>\n",
       "      <td>0</td>\n",
       "      <td>0</td>\n",
       "      <td>0</td>\n",
       "      <td>0</td>\n",
       "      <td>0</td>\n",
       "      <td>0</td>\n",
       "      <td>0</td>\n",
       "      <td>0</td>\n",
       "      <td>...</td>\n",
       "      <td>1.00</td>\n",
       "      <td>0.28</td>\n",
       "      <td>0.0</td>\n",
       "      <td>0.0</td>\n",
       "      <td>0.00</td>\n",
       "      <td>0.00</td>\n",
       "      <td>0</td>\n",
       "      <td>13</td>\n",
       "      <td>9</td>\n",
       "      <td>0</td>\n",
       "    </tr>\n",
       "    <tr>\n",
       "      <th>4</th>\n",
       "      <td>1</td>\n",
       "      <td>0</td>\n",
       "      <td>15</td>\n",
       "      <td>0</td>\n",
       "      <td>0</td>\n",
       "      <td>0</td>\n",
       "      <td>0</td>\n",
       "      <td>0</td>\n",
       "      <td>0</td>\n",
       "      <td>0</td>\n",
       "      <td>...</td>\n",
       "      <td>0.03</td>\n",
       "      <td>0.02</td>\n",
       "      <td>0.0</td>\n",
       "      <td>0.0</td>\n",
       "      <td>0.83</td>\n",
       "      <td>0.71</td>\n",
       "      <td>1</td>\n",
       "      <td>55</td>\n",
       "      <td>2</td>\n",
       "      <td>0</td>\n",
       "    </tr>\n",
       "  </tbody>\n",
       "</table>\n",
       "<p>5 rows × 42 columns</p>\n",
       "</div>"
      ],
      "text/plain": [
       "   duration  src_bytes  dst_bytes  land  wrong_fragment  urgent  hot  \\\n",
       "0         0          0          0     0               0       0    0   \n",
       "1         0          0          0     0               0       0    0   \n",
       "2         2      12983          0     0               0       0    0   \n",
       "3         0         20          0     0               0       0    0   \n",
       "4         1          0         15     0               0       0    0   \n",
       "\n",
       "   num_failed_logins  logged_in  num_compromised  ...    \\\n",
       "0                  0          0                0  ...     \n",
       "1                  0          0                0  ...     \n",
       "2                  0          0                0  ...     \n",
       "3                  0          0                0  ...     \n",
       "4                  0          0                0  ...     \n",
       "\n",
       "   dst_host_same_src_port_rate  dst_host_srv_diff_host_rate  \\\n",
       "0                         0.00                         0.00   \n",
       "1                         0.00                         0.00   \n",
       "2                         0.61                         0.02   \n",
       "3                         1.00                         0.28   \n",
       "4                         0.03                         0.02   \n",
       "\n",
       "   dst_host_serror_rate  dst_host_srv_serror_rate  dst_host_rerror_rate  \\\n",
       "0                   0.0                       0.0                  1.00   \n",
       "1                   0.0                       0.0                  1.00   \n",
       "2                   0.0                       0.0                  0.00   \n",
       "3                   0.0                       0.0                  0.00   \n",
       "4                   0.0                       0.0                  0.83   \n",
       "\n",
       "   dst_host_srv_rerror_rate  protocol_type  service  flag  class  \n",
       "0                      1.00              1       45     1      0  \n",
       "1                      1.00              1       45     1      0  \n",
       "2                      0.00              1       19     9      1  \n",
       "3                      0.00              0       13     9      0  \n",
       "4                      0.71              1       55     2      0  \n",
       "\n",
       "[5 rows x 42 columns]"
      ]
     },
     "execution_count": 11,
     "metadata": {},
     "output_type": "execute_result"
    }
   ],
   "source": [
    "test.head()"
   ]
  },
  {
   "cell_type": "code",
   "execution_count": 19,
   "metadata": {
    "collapsed": false
   },
   "outputs": [],
   "source": [
    "#splitting df into features and predicted value\n",
    "y_train = train['class']\n",
    "X_train = train.copy()\n",
    "del X_train['class']\n",
    "\n",
    "\n",
    "y_test = test['class']\n",
    "X_test = test.copy()\n",
    "del X_test['class']"
   ]
  },
  {
   "cell_type": "code",
   "execution_count": 20,
   "metadata": {
    "collapsed": false
   },
   "outputs": [
    {
     "data": {
      "text/plain": [
       "LogisticRegression(C=1.0, class_weight=None, dual=False, fit_intercept=True,\n",
       "          intercept_scaling=1, max_iter=100, multi_class='ovr', n_jobs=1,\n",
       "          penalty='l2', random_state=None, solver='liblinear', tol=0.0001,\n",
       "          verbose=0, warm_start=False)"
      ]
     },
     "execution_count": 20,
     "metadata": {},
     "output_type": "execute_result"
    }
   ],
   "source": [
    "logistic = linear_model.LogisticRegression()\n",
    "logistic.fit(X_train, y_train)"
   ]
  },
  {
   "cell_type": "code",
   "execution_count": 21,
   "metadata": {
    "collapsed": false
   },
   "outputs": [
    {
     "data": {
      "text/plain": [
       "0.68355216465578428"
      ]
     },
     "execution_count": 21,
     "metadata": {},
     "output_type": "execute_result"
    }
   ],
   "source": [
    "#accuracy\n",
    "sum(logistic.predict(X_test)==y_test)/y_test.shape[0]"
   ]
  },
  {
   "cell_type": "code",
   "execution_count": 32,
   "metadata": {
    "collapsed": false
   },
   "outputs": [
    {
     "data": {
      "text/plain": [
       "(LogisticRegression(C=0.0001, class_weight=None, dual=False,\n",
       "           fit_intercept=True, intercept_scaling=1, max_iter=100,\n",
       "           multi_class='ovr', n_jobs=1, penalty='l2', random_state=None,\n",
       "           solver='liblinear', tol=0.0001, verbose=0, warm_start=False),\n",
       " {'C': 0.0001},\n",
       " 0.87737054765703759,\n",
       " [mean: 0.87737, std: 0.00789, params: {'C': 0.0001},\n",
       "  mean: 0.87529, std: 0.00593, params: {'C': 0.001},\n",
       "  mean: 0.87581, std: 0.00792, params: {'C': 0.1},\n",
       "  mean: 0.87293, std: 0.00461, params: {'C': 1},\n",
       "  mean: 0.87493, std: 0.00692, params: {'C': 10},\n",
       "  mean: 0.87357, std: 0.00574, params: {'C': 100}])"
      ]
     },
     "execution_count": 32,
     "metadata": {},
     "output_type": "execute_result"
    }
   ],
   "source": [
    "from sklearn.grid_search import GridSearchCV\n",
    "\n",
    "start_time = time.clock()\n",
    "clfl2=linear_model.LogisticRegression()\n",
    "parameters = {\"C\": [0.0001, 0.001, 0.1, 1, 10, 100]}\n",
    "fitmodel = GridSearchCV(clfl2, param_grid=parameters, cv=10, scoring=\"accuracy\")\n",
    "fitmodel.fit(X_train, y_train)\n",
    "print(time.clock() - start_time, \"seconds\")\n",
    "fitmodel.best_estimator_, fitmodel.best_params_, fitmodel.best_score_, fitmodel.grid_scores_\n"
   ]
  },
  {
   "cell_type": "code",
   "execution_count": 39,
   "metadata": {
    "collapsed": false
   },
   "outputs": [
    {
     "name": "stdout",
     "output_type": "stream",
     "text": [
      "0.68390702626\n",
      "1.6067370000000096 seconds\n"
     ]
    }
   ],
   "source": [
    "start_time = time.clock()\n",
    "clfl2=linear_model.LogisticRegression(C=fitmodel.best_params_['C'])\n",
    "clfl2.fit(X_train, y_train)\n",
    "ypred2=clfl2.predict(X_test)\n",
    "print(accuracy_score(ypred2, y_test))\n",
    "print(time.clock() - start_time, \"seconds\")"
   ]
  },
  {
   "cell_type": "markdown",
   "metadata": {},
   "source": [
    "### Decision Trees"
   ]
  },
  {
   "cell_type": "code",
   "execution_count": 22,
   "metadata": {
    "collapsed": false
   },
   "outputs": [
    {
     "data": {
      "text/plain": [
       "DecisionTreeClassifier(class_weight=None, criterion='gini', max_depth=None,\n",
       "            max_features=None, max_leaf_nodes=None, min_samples_leaf=1,\n",
       "            min_samples_split=2, min_weight_fraction_leaf=0.0,\n",
       "            presort=False, random_state=None, splitter='best')"
      ]
     },
     "execution_count": 22,
     "metadata": {},
     "output_type": "execute_result"
    }
   ],
   "source": [
    "from sklearn import tree\n",
    "part = tree.DecisionTreeClassifier()\n",
    "part.fit(X_train, y_train)\n"
   ]
  },
  {
   "cell_type": "code",
   "execution_count": 23,
   "metadata": {
    "collapsed": false
   },
   "outputs": [
    {
     "data": {
      "text/plain": [
       "0.7737757274662882"
      ]
     },
     "execution_count": 23,
     "metadata": {},
     "output_type": "execute_result"
    }
   ],
   "source": [
    "#accuracy\n",
    "sum(part.predict(X_test)==y_test)/y_test.shape[0]"
   ]
  },
  {
   "cell_type": "code",
   "execution_count": 44,
   "metadata": {
    "collapsed": false
   },
   "outputs": [
    {
     "name": "stdout",
     "output_type": "stream",
     "text": [
      "DecisionTreeClassifier(class_weight=None, criterion='entropy', max_depth=None,\n",
      "            max_features=None, max_leaf_nodes=None, min_samples_leaf=1,\n",
      "            min_samples_split=2, min_weight_fraction_leaf=0.0,\n",
      "            presort=False, random_state=None, splitter='best') {'min_samples_split': 2, 'splitter': 'best', 'criterion': 'entropy'} 0.998348852532 [mean: 0.99814, std: 0.00052, params: {'min_samples_split': 2, 'splitter': 'best', 'criterion': 'gini'}, mean: 0.99760, std: 0.00031, params: {'min_samples_split': 2, 'splitter': 'random', 'criterion': 'gini'}, mean: 0.99799, std: 0.00044, params: {'min_samples_split': 10, 'splitter': 'best', 'criterion': 'gini'}, mean: 0.99702, std: 0.00070, params: {'min_samples_split': 10, 'splitter': 'random', 'criterion': 'gini'}, mean: 0.99743, std: 0.00027, params: {'min_samples_split': 50, 'splitter': 'best', 'criterion': 'gini'}, mean: 0.99559, std: 0.00059, params: {'min_samples_split': 50, 'splitter': 'random', 'criterion': 'gini'}, mean: 0.99688, std: 0.00022, params: {'min_samples_split': 100, 'splitter': 'best', 'criterion': 'gini'}, mean: 0.99454, std: 0.00060, params: {'min_samples_split': 100, 'splitter': 'random', 'criterion': 'gini'}, mean: 0.99835, std: 0.00033, params: {'min_samples_split': 2, 'splitter': 'best', 'criterion': 'entropy'}, mean: 0.99753, std: 0.00056, params: {'min_samples_split': 2, 'splitter': 'random', 'criterion': 'entropy'}, mean: 0.99813, std: 0.00034, params: {'min_samples_split': 10, 'splitter': 'best', 'criterion': 'entropy'}, mean: 0.99738, std: 0.00040, params: {'min_samples_split': 10, 'splitter': 'random', 'criterion': 'entropy'}, mean: 0.99785, std: 0.00035, params: {'min_samples_split': 50, 'splitter': 'best', 'criterion': 'entropy'}, mean: 0.99567, std: 0.00055, params: {'min_samples_split': 50, 'splitter': 'random', 'criterion': 'entropy'}, mean: 0.99672, std: 0.00042, params: {'min_samples_split': 100, 'splitter': 'best', 'criterion': 'entropy'}, mean: 0.99399, std: 0.00075, params: {'min_samples_split': 100, 'splitter': 'random', 'criterion': 'entropy'}]\n",
      "97.97170200000005 seconds\n"
     ]
    }
   ],
   "source": [
    "start_time = time.clock()\n",
    "clfl3 = tree.DecisionTreeClassifier()\n",
    "parameters = {\"criterion\": ['gini','entropy'],'min_samples_split':[2,10,50,100],'splitter':['best','random']}\n",
    "fitmodel = GridSearchCV(clfl3, param_grid=parameters, cv=10, scoring=\"accuracy\")\n",
    "fitmodel.fit(X_train, y_train)\n",
    "print(fitmodel.best_estimator_, fitmodel.best_params_, fitmodel.best_score_, fitmodel.grid_scores_)\n",
    "print(time.clock() - start_time, \"seconds\")"
   ]
  },
  {
   "cell_type": "code",
   "execution_count": 45,
   "metadata": {
    "collapsed": false
   },
   "outputs": [
    {
     "name": "stdout",
     "output_type": "stream",
     "text": [
      "0.804648687012\n",
      "0.5379780000000096 seconds\n"
     ]
    }
   ],
   "source": [
    "start_time = time.clock()\n",
    "clfl3=tree.DecisionTreeClassifier(criterion=fitmodel.best_params_['criterion'],min_samples_split=fitmodel.best_params_['min_samples_split'],splitter=fitmodel.best_params_['splitter'])\n",
    "clfl3.fit(X_train, y_train)\n",
    "ypred3=clfl3.predict(X_test)\n",
    "print(accuracy_score(ypred3, y_test))\n",
    "print(time.clock() - start_time, \"seconds\")"
   ]
  },
  {
   "cell_type": "markdown",
   "metadata": {},
   "source": [
    "### Naive Bayes"
   ]
  },
  {
   "cell_type": "code",
   "execution_count": 24,
   "metadata": {
    "collapsed": false
   },
   "outputs": [
    {
     "data": {
      "text/plain": [
       "GaussianNB()"
      ]
     },
     "execution_count": 24,
     "metadata": {},
     "output_type": "execute_result"
    }
   ],
   "source": [
    "from sklearn.naive_bayes import GaussianNB\n",
    "gnb = GaussianNB()\n",
    "gnb.fit(X_train, y_train)"
   ]
  },
  {
   "cell_type": "code",
   "execution_count": 25,
   "metadata": {
    "collapsed": false
   },
   "outputs": [
    {
     "data": {
      "text/plain": [
       "0.45031937544357703"
      ]
     },
     "execution_count": 25,
     "metadata": {},
     "output_type": "execute_result"
    }
   ],
   "source": [
    "#accuracy\n",
    "sum(gnb.predict(X_test)==y_test)/y_test.shape[0]"
   ]
  },
  {
   "cell_type": "code",
   "execution_count": 47,
   "metadata": {
    "collapsed": false
   },
   "outputs": [
    {
     "name": "stdout",
     "output_type": "stream",
     "text": [
      "GaussianNB() {} 0.534193835187 [mean: 0.53419, std: 0.00097, params: {}]\n",
      "2.4734129999999936 seconds\n"
     ]
    }
   ],
   "source": [
    "start_time = time.clock()\n",
    "clfl4 = GaussianNB()\n",
    "parameters = {}\n",
    "fitmodel = GridSearchCV(clfl4, param_grid=parameters, cv=10, scoring=\"accuracy\")\n",
    "fitmodel.fit(X_train, y_train)\n",
    "print(fitmodel.best_estimator_, fitmodel.best_params_, fitmodel.best_score_, fitmodel.grid_scores_)\n",
    "print(time.clock() - start_time, \"seconds\")"
   ]
  },
  {
   "cell_type": "code",
   "execution_count": 48,
   "metadata": {
    "collapsed": false
   },
   "outputs": [
    {
     "name": "stdout",
     "output_type": "stream",
     "text": [
      "0.450319375444\n",
      "0.17779100000001336 seconds\n"
     ]
    }
   ],
   "source": [
    "start_time = time.clock()\n",
    "clfl4= GaussianNB()\n",
    "clfl4.fit(X_train, y_train)\n",
    "ypred4=clfl4.predict(X_test)\n",
    "print(accuracy_score(ypred4, y_test))\n",
    "print(time.clock() - start_time, \"seconds\")"
   ]
  },
  {
   "cell_type": "markdown",
   "metadata": {},
   "source": [
    "### Random Forest"
   ]
  },
  {
   "cell_type": "code",
   "execution_count": 26,
   "metadata": {
    "collapsed": false
   },
   "outputs": [
    {
     "data": {
      "text/plain": [
       "RandomForestClassifier(bootstrap=True, class_weight=None, criterion='gini',\n",
       "            max_depth=None, max_features='auto', max_leaf_nodes=None,\n",
       "            min_samples_leaf=1, min_samples_split=2,\n",
       "            min_weight_fraction_leaf=0.0, n_estimators=25, n_jobs=1,\n",
       "            oob_score=False, random_state=None, verbose=0,\n",
       "            warm_start=False)"
      ]
     },
     "execution_count": 26,
     "metadata": {},
     "output_type": "execute_result"
    }
   ],
   "source": [
    "from sklearn.ensemble import RandomForestClassifier\n",
    "\n",
    "rf= RandomForestClassifier(n_estimators=25)\n",
    "rf.fit(X_train, y_train)"
   ]
  },
  {
   "cell_type": "code",
   "execution_count": 28,
   "metadata": {
    "collapsed": false
   },
   "outputs": [
    {
     "data": {
      "text/plain": [
       "0.76871894960965226"
      ]
     },
     "execution_count": 28,
     "metadata": {},
     "output_type": "execute_result"
    }
   ],
   "source": [
    "#accuracy\n",
    "sum(rf.predict(X_test)==y_test)/y_test.shape[0]"
   ]
  },
  {
   "cell_type": "code",
   "execution_count": 53,
   "metadata": {
    "collapsed": true
   },
   "outputs": [],
   "source": [
    "RandomForestClassifier?"
   ]
  },
  {
   "cell_type": "code",
   "execution_count": 54,
   "metadata": {
    "collapsed": false
   },
   "outputs": [
    {
     "name": "stdout",
     "output_type": "stream",
     "text": [
      "RandomForestClassifier(bootstrap=True, class_weight=None, criterion='entropy',\n",
      "            max_depth=None, max_features='auto', max_leaf_nodes=None,\n",
      "            min_samples_leaf=1, min_samples_split=2,\n",
      "            min_weight_fraction_leaf=0.0, n_estimators=100, n_jobs=1,\n",
      "            oob_score=False, random_state=None, verbose=0,\n",
      "            warm_start=False) {'min_samples_split': 2, 'n_estimators': 100, 'criterion': 'entropy'} 0.999015662086 [mean: 0.99865, std: 0.00031, params: {'min_samples_split': 2, 'n_estimators': 5, 'criterion': 'gini'}, mean: 0.99878, std: 0.00019, params: {'min_samples_split': 2, 'n_estimators': 10, 'criterion': 'gini'}, mean: 0.99895, std: 0.00024, params: {'min_samples_split': 2, 'n_estimators': 20, 'criterion': 'gini'}, mean: 0.99883, std: 0.00027, params: {'min_samples_split': 2, 'n_estimators': 25, 'criterion': 'gini'}, mean: 0.99899, std: 0.00022, params: {'min_samples_split': 2, 'n_estimators': 50, 'criterion': 'gini'}, mean: 0.99900, std: 0.00028, params: {'min_samples_split': 2, 'n_estimators': 100, 'criterion': 'gini'}, mean: 0.99817, std: 0.00024, params: {'min_samples_split': 10, 'n_estimators': 5, 'criterion': 'gini'}, mean: 0.99868, std: 0.00014, params: {'min_samples_split': 10, 'n_estimators': 10, 'criterion': 'gini'}, mean: 0.99866, std: 0.00030, params: {'min_samples_split': 10, 'n_estimators': 20, 'criterion': 'gini'}, mean: 0.99873, std: 0.00024, params: {'min_samples_split': 10, 'n_estimators': 25, 'criterion': 'gini'}, mean: 0.99882, std: 0.00032, params: {'min_samples_split': 10, 'n_estimators': 50, 'criterion': 'gini'}, mean: 0.99879, std: 0.00022, params: {'min_samples_split': 10, 'n_estimators': 100, 'criterion': 'gini'}, mean: 0.99752, std: 0.00049, params: {'min_samples_split': 50, 'n_estimators': 5, 'criterion': 'gini'}, mean: 0.99788, std: 0.00029, params: {'min_samples_split': 50, 'n_estimators': 10, 'criterion': 'gini'}, mean: 0.99798, std: 0.00027, params: {'min_samples_split': 50, 'n_estimators': 20, 'criterion': 'gini'}, mean: 0.99802, std: 0.00021, params: {'min_samples_split': 50, 'n_estimators': 25, 'criterion': 'gini'}, mean: 0.99815, std: 0.00034, params: {'min_samples_split': 50, 'n_estimators': 50, 'criterion': 'gini'}, mean: 0.99813, std: 0.00030, params: {'min_samples_split': 50, 'n_estimators': 100, 'criterion': 'gini'}, mean: 0.99671, std: 0.00036, params: {'min_samples_split': 100, 'n_estimators': 5, 'criterion': 'gini'}, mean: 0.99718, std: 0.00044, params: {'min_samples_split': 100, 'n_estimators': 10, 'criterion': 'gini'}, mean: 0.99752, std: 0.00038, params: {'min_samples_split': 100, 'n_estimators': 20, 'criterion': 'gini'}, mean: 0.99740, std: 0.00031, params: {'min_samples_split': 100, 'n_estimators': 25, 'criterion': 'gini'}, mean: 0.99750, std: 0.00038, params: {'min_samples_split': 100, 'n_estimators': 50, 'criterion': 'gini'}, mean: 0.99759, std: 0.00036, params: {'min_samples_split': 100, 'n_estimators': 100, 'criterion': 'gini'}, mean: 0.99856, std: 0.00047, params: {'min_samples_split': 2, 'n_estimators': 5, 'criterion': 'entropy'}, mean: 0.99883, std: 0.00025, params: {'min_samples_split': 2, 'n_estimators': 10, 'criterion': 'entropy'}, mean: 0.99890, std: 0.00027, params: {'min_samples_split': 2, 'n_estimators': 20, 'criterion': 'entropy'}, mean: 0.99891, std: 0.00021, params: {'min_samples_split': 2, 'n_estimators': 25, 'criterion': 'entropy'}, mean: 0.99896, std: 0.00023, params: {'min_samples_split': 2, 'n_estimators': 50, 'criterion': 'entropy'}, mean: 0.99902, std: 0.00024, params: {'min_samples_split': 2, 'n_estimators': 100, 'criterion': 'entropy'}, mean: 0.99838, std: 0.00021, params: {'min_samples_split': 10, 'n_estimators': 5, 'criterion': 'entropy'}, mean: 0.99870, std: 0.00029, params: {'min_samples_split': 10, 'n_estimators': 10, 'criterion': 'entropy'}, mean: 0.99871, std: 0.00023, params: {'min_samples_split': 10, 'n_estimators': 20, 'criterion': 'entropy'}, mean: 0.99875, std: 0.00018, params: {'min_samples_split': 10, 'n_estimators': 25, 'criterion': 'entropy'}, mean: 0.99879, std: 0.00022, params: {'min_samples_split': 10, 'n_estimators': 50, 'criterion': 'entropy'}, mean: 0.99888, std: 0.00021, params: {'min_samples_split': 10, 'n_estimators': 100, 'criterion': 'entropy'}, mean: 0.99748, std: 0.00035, params: {'min_samples_split': 50, 'n_estimators': 5, 'criterion': 'entropy'}, mean: 0.99786, std: 0.00035, params: {'min_samples_split': 50, 'n_estimators': 10, 'criterion': 'entropy'}, mean: 0.99806, std: 0.00033, params: {'min_samples_split': 50, 'n_estimators': 20, 'criterion': 'entropy'}, mean: 0.99820, std: 0.00022, params: {'min_samples_split': 50, 'n_estimators': 25, 'criterion': 'entropy'}, mean: 0.99822, std: 0.00028, params: {'min_samples_split': 50, 'n_estimators': 50, 'criterion': 'entropy'}, mean: 0.99809, std: 0.00028, params: {'min_samples_split': 50, 'n_estimators': 100, 'criterion': 'entropy'}, mean: 0.99677, std: 0.00045, params: {'min_samples_split': 100, 'n_estimators': 5, 'criterion': 'entropy'}, mean: 0.99728, std: 0.00050, params: {'min_samples_split': 100, 'n_estimators': 10, 'criterion': 'entropy'}, mean: 0.99742, std: 0.00024, params: {'min_samples_split': 100, 'n_estimators': 20, 'criterion': 'entropy'}, mean: 0.99745, std: 0.00029, params: {'min_samples_split': 100, 'n_estimators': 25, 'criterion': 'entropy'}, mean: 0.99757, std: 0.00024, params: {'min_samples_split': 100, 'n_estimators': 50, 'criterion': 'entropy'}, mean: 0.99767, std: 0.00029, params: {'min_samples_split': 100, 'n_estimators': 100, 'criterion': 'entropy'}]\n",
      "1425.955089 seconds\n"
     ]
    }
   ],
   "source": [
    "start_time = time.clock()\n",
    "clfl5 = RandomForestClassifier()\n",
    "parameters = {\"n_estimators\": [5,10,20,25,50,100],'criterion':['gini','entropy'],'min_samples_split':[2,10,50,100]}\n",
    "fitmodel = GridSearchCV(clfl5, param_grid=parameters, cv=10, scoring=\"accuracy\")\n",
    "fitmodel.fit(X_train, y_train)\n",
    "print(fitmodel.best_estimator_, fitmodel.best_params_, fitmodel.best_score_, fitmodel.grid_scores_)\n",
    "print(time.clock() - start_time, \"seconds\")"
   ]
  },
  {
   "cell_type": "code",
   "execution_count": 56,
   "metadata": {
    "collapsed": false
   },
   "outputs": [
    {
     "name": "stdout",
     "output_type": "stream",
     "text": [
      "0.775993612491\n",
      "7.918926000000056 seconds\n"
     ]
    }
   ],
   "source": [
    "start_time = time.clock()\n",
    "clfl5=RandomForestClassifier(criterion=fitmodel.best_params_['criterion'],min_samples_split=fitmodel.best_params_['min_samples_split'],n_estimators=fitmodel.best_params_['n_estimators'])\n",
    "clfl5.fit(X_train, y_train)\n",
    "ypred5=clfl5.predict(X_test)\n",
    "print(accuracy_score(ypred5, y_test))\n",
    "print(time.clock() - start_time, \"seconds\")"
   ]
  },
  {
   "cell_type": "code",
   "execution_count": null,
   "metadata": {
    "collapsed": true
   },
   "outputs": [],
   "source": [
    "#adabost\n",
    "#ROC Curve"
   ]
  }
 ],
 "metadata": {
  "anaconda-cloud": {},
  "kernelspec": {
   "display_name": "Python [Root]",
   "language": "python",
   "name": "Python [Root]"
  },
  "language_info": {
   "codemirror_mode": {
    "name": "ipython",
    "version": 3
   },
   "file_extension": ".py",
   "mimetype": "text/x-python",
   "name": "python",
   "nbconvert_exporter": "python",
   "pygments_lexer": "ipython3",
   "version": "3.5.2"
  }
 },
 "nbformat": 4,
 "nbformat_minor": 0
}
